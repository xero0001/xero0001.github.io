{
 "cells": [
  {
   "cell_type": "code",
   "execution_count": 1,
   "metadata": {
    "collapsed": true
   },
   "outputs": [],
   "source": [
    "import sys\n",
    "sys.path.append('/mnt/lovit/git/soynlp/')\n",
    "\n",
    "import soynlp\n",
    "from soynlp.utils import EojeolCounter\n",
    "from soynlp.utils import DoublespaceLineCorpus\n",
    "from konlpy.tag import Komoran\n",
    "\n",
    "corpus_path = '/mnt/lovit/works/fastcampus_text_ml/1st/data/corpus_10days/news/2016-10-20_article_all_normed.txt'\n",
    "corpus = DoublespaceLineCorpus(corpus_path, iter_sent=True)\n",
    "\n",
    "# for loading corpus on buffer memory\n",
    "for sent in corpus:\n",
    "    continue"
   ]
  },
  {
   "cell_type": "code",
   "execution_count": 2,
   "metadata": {},
   "outputs": [
    {
     "data": {
      "text/plain": [
       "[('테스트', 'NNG'), ('문장', 'NNG'), ('이', 'VCP'), ('ㅂ니다', 'EC')]"
      ]
     },
     "execution_count": 2,
     "metadata": {},
     "output_type": "execute_result"
    }
   ],
   "source": [
    "# for load komoran\n",
    "komoran = Komoran()\n",
    "komoran.pos('테스트문장입니다')"
   ]
  },
  {
   "cell_type": "code",
   "execution_count": 5,
   "metadata": {},
   "outputs": [
    {
     "name": "stdout",
     "output_type": "stream",
     "text": [
      "base model process time = 121.86695957183838 sec\n"
     ]
    }
   ],
   "source": [
    "import time\n",
    "process_time = time.time()\n",
    "for i, sent in enumerate(corpus):\n",
    "    komoran.pos(sent)\n",
    "    if i % 1000 == 999:\n",
    "        print('\\rprocessing ... {} sents'.format(i+1), end='')\n",
    "process_time = time.time() - process_time\n",
    "print('\\rbase model process time = {} sec'.format(process_time))"
   ]
  },
  {
   "cell_type": "code",
   "execution_count": 6,
   "metadata": {
    "collapsed": true
   },
   "outputs": [],
   "source": [
    "eojeol_counter = EojeolCounter(corpus)"
   ]
  },
  {
   "cell_type": "code",
   "execution_count": 11,
   "metadata": {},
   "outputs": [
    {
     "name": "stdout",
     "output_type": "stream",
     "text": [
      "preanalyzed model process time = 40.99457621574402 sec\n"
     ]
    }
   ],
   "source": [
    "from collections import defaultdict\n",
    "\n",
    "class PreanalyzedTagger:\n",
    "    def __init__(self, base_tagger):\n",
    "        self.base_tagger = base_tagger\n",
    "        self.preanalyzed = {}\n",
    "\n",
    "    def pos(self, sent):\n",
    "        return [word for eojeol in sent.split() for word in self._pos(eojeol)]\n",
    "\n",
    "    def _pos(self, eojeol):\n",
    "        if eojeol in self.preanalyzed:\n",
    "            return self.preanalyzed[eojeol]\n",
    "        else:\n",
    "            words = tuple(self.base_tagger.pos(eojeol))\n",
    "            self.preanalyzed[eojeol] = words\n",
    "            return words\n",
    "\n",
    "preanalyzed_tagger = PreanalyzedTagger(komoran)\n",
    "\n",
    "process_time = time.time()\n",
    "for i, sent in enumerate(corpus):\n",
    "    preanalyzed_tagger.pos(sent)\n",
    "    if i % 1000 == 999:\n",
    "        print('\\rprocessing ... {} sents'.format(i+1), end='')\n",
    "process_time = time.time() - process_time\n",
    "print('\\rpreanalyzed model process time = {} sec'.format(process_time))"
   ]
  },
  {
   "cell_type": "code",
   "execution_count": 12,
   "metadata": {},
   "outputs": [
    {
     "name": "stdout",
     "output_type": "stream",
     "text": [
      "all eojeol analyzed model process time = 3.2747089862823486 sec\n"
     ]
    }
   ],
   "source": [
    "process_time = time.time()\n",
    "for i, sent in enumerate(corpus):\n",
    "    preanalyzed_tagger.pos(sent)\n",
    "    if i % 1000 == 999:\n",
    "        print('\\rprocessing ... {} sents'.format(i+1), end='')\n",
    "process_time = time.time() - process_time\n",
    "print('\\rall eojeol analyzed model process time = {} sec'.format(process_time))"
   ]
  },
  {
   "cell_type": "code",
   "execution_count": 13,
   "metadata": {
    "collapsed": true
   },
   "outputs": [],
   "source": [
    "answers = [komoran.pos(sent) for sent in corpus]\n",
    "tests = [preanalyzed_tagger.pos(sent) for sent in corpus]"
   ]
  },
  {
   "cell_type": "code",
   "execution_count": 15,
   "metadata": {},
   "outputs": [
    {
     "data": {
      "text/plain": [
       "(223357, 223357)"
      ]
     },
     "execution_count": 15,
     "metadata": {},
     "output_type": "execute_result"
    }
   ],
   "source": [
    "len(answers), len(tests)"
   ]
  },
  {
   "cell_type": "code",
   "execution_count": 19,
   "metadata": {},
   "outputs": [
    {
     "name": "stdout",
     "output_type": "stream",
     "text": [
      "0.9938027020710959\n"
     ]
    }
   ],
   "source": [
    "n_recovery = 0\n",
    "n_difference = 0\n",
    "for answer, test in zip(answers, tests):\n",
    "    test = set(test)\n",
    "    for answer_i in answer:\n",
    "        if answer_i in test:\n",
    "            n_recovery += 1\n",
    "        else:\n",
    "            n_difference += 1\n",
    "print(n_recovery / (n_recovery + n_difference))"
   ]
  },
  {
   "cell_type": "code",
   "execution_count": null,
   "metadata": {
    "collapsed": true
   },
   "outputs": [],
   "source": []
  }
 ],
 "metadata": {
  "kernelspec": {
   "display_name": "Python 3",
   "language": "python",
   "name": "python3"
  },
  "language_info": {
   "codemirror_mode": {
    "name": "ipython",
    "version": 3
   },
   "file_extension": ".py",
   "mimetype": "text/x-python",
   "name": "python",
   "nbconvert_exporter": "python",
   "pygments_lexer": "ipython3",
   "version": "3.6.2"
  }
 },
 "nbformat": 4,
 "nbformat_minor": 2
}
