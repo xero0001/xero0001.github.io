{
 "cells": [
  {
   "cell_type": "code",
   "execution_count": 5,
   "metadata": {
    "collapsed": true
   },
   "outputs": [],
   "source": [
    "import json\n",
    "with open('/mnt/sdc1/cafe/workspace/data/naver/comments_texts/10001.txt', encoding='utf-8') as f:\n",
    "    docs = [doc.strip() for doc in f]"
   ]
  },
  {
   "cell_type": "code",
   "execution_count": 7,
   "metadata": {},
   "outputs": [
    {
     "data": {
      "text/plain": [
       "['기대가 큽니다.\\t10',\n",
       " '봐야겠네요 ^^\\t10',\n",
       " '오늘 보려고 하는데...재미있을것같다\\t10',\n",
       " '시네마 천국을 보면 파라다이스를 찾을 수 있을까? 조만간 보고 평점 남겨야지 :)\\t10',\n",
       " 'good\\t10']"
      ]
     },
     "execution_count": 7,
     "metadata": {},
     "output_type": "execute_result"
    }
   ],
   "source": [
    "docs[:5]"
   ]
  },
  {
   "cell_type": "code",
   "execution_count": 8,
   "metadata": {
    "collapsed": true
   },
   "outputs": [],
   "source": [
    "from glob import glob\n",
    "paths = glob('/mnt/sdc1/cafe/workspace/data/naver/comments_texts/*.txt')\n",
    "\n",
    "n_comments = {}\n",
    "for path in sorted(paths, key=lambda x:int(x.split('/')[-1][:-4])):\n",
    "    movie_idx = path.split('/')[-1][:-4]\n",
    "    with open(path, encoding='utf-8') as f:\n",
    "        for n_docs, _ in enumerate(f):\n",
    "            continue\n",
    "        n_comments[movie_idx] = (n_docs + 1)"
   ]
  },
  {
   "cell_type": "code",
   "execution_count": 9,
   "metadata": {},
   "outputs": [
    {
     "name": "stdout",
     "output_type": "stream",
     "text": [
      "done\n"
     ]
    }
   ],
   "source": [
    "with open('/mnt/lovit/git/pagerank/data/movie-actor/num_comments.txt', 'w', encoding='utf-8') as f:\n",
    "    for movie_idx, n_comment in sorted(n_comments.items(), key=lambda x:int(x[0])):\n",
    "        f.write('{}\\t{}\\n'.format(movie_idx, n_comment))\n",
    "print('done')"
   ]
  },
  {
   "cell_type": "code",
   "execution_count": null,
   "metadata": {
    "collapsed": true
   },
   "outputs": [],
   "source": []
  }
 ],
 "metadata": {
  "kernelspec": {
   "display_name": "Python 3",
   "language": "python",
   "name": "python3"
  },
  "language_info": {
   "codemirror_mode": {
    "name": "ipython",
    "version": 3
   },
   "file_extension": ".py",
   "mimetype": "text/x-python",
   "name": "python",
   "nbconvert_exporter": "python",
   "pygments_lexer": "ipython3",
   "version": "3.6.2"
  }
 },
 "nbformat": 4,
 "nbformat_minor": 2
}
